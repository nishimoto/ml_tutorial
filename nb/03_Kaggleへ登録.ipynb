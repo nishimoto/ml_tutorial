{
 "cells": [
  {
   "cell_type": "markdown",
   "metadata": {},
   "source": [
    "# Kaggleへ登録 〜 データダウンロード\n",
    "\n",
    "## Kaggleへ登録\n",
    "\n",
    "[Kaggleの公式ページ](https://www.kaggle.com/)へアクセスし、登録してください。\n",
    "\n",
    "![](./assets/pic/kaggle1.png)\n",
    "\n",
    "登録すると、以下のような画面になると思います。\n",
    "\n",
    "![](./assets/pic/kaggle2.png)\n",
    "\n",
    "## Join Competition\n",
    "\n",
    "Kaggleでは、データダウンロードのためにはコンペティションに参加するボタンを押す必要があります。\n",
    "\n",
    "今回はKaggleの登竜門的な存在である、[Titanicコンペ](https://www.kaggle.com/c/titanic)へ参加してみたいと思います。\n",
    "\n",
    "Join Competition → I Understand and Accept で規約に同意し、コンペに参加しましょう。\n",
    "\n",
    "![](./assets/pic/kaggle3.png)\n",
    "\n",
    "![](./assets/pic/kaggle4.png)\n",
    "\n",
    "## Kaggleの画面説明\n",
    "\n",
    "各コンペのページには以下の7つのタブがあります。\n",
    "\n",
    "それぞれのタブの意味としては以下のようになっています。\n",
    "\n",
    "|タブの名前|説明|\n",
    "|-|-|\n",
    "|Overview|コンペの説明、データの説明など|\n",
    "|Data|主にデータダウンロード|\n",
    "|Kernels|他人が公開しているソースコード（Kernel）|\n",
    "|Discussion|データに関する議論|\n",
    "|Leaderboard|他の人や自分の提出した結果|\n",
    "|Rules|コンペのルール（あまり使わない）|\n",
    "|Team|複数人でチームを組むとき用のページ（今回は使わない）|\n",
    "\n",
    "よく使うのはOverview, Data, Kernels, Discussion, Learderboardの5つです。\n",
    "\n",
    "まずはDataタブからデータをダウンロードしてみます。\n",
    "\n",
    "## データのダウンロード\n",
    "\n",
    "データタブをクリックしたあと、画面の下の方にデータがあるので、ダウンロードしてみてください。\n",
    "\n",
    "![](./assets/pic/kaggle5.png)\n",
    "![](./assets/pic/kaggle6.png)\n",
    "\n",
    "## おわりに\n",
    "\n",
    "今回は短いですが、ここで終わりにします。\n",
    "\n",
    "次回から実際に機械学習を試してみます。\n"
   ]
  }
 ],
 "metadata": {
  "kernelspec": {
   "display_name": "Python 3",
   "language": "python",
   "name": "python3"
  },
  "language_info": {
   "codemirror_mode": {
    "name": "ipython",
    "version": 3
   },
   "file_extension": ".py",
   "mimetype": "text/x-python",
   "name": "python",
   "nbconvert_exporter": "python",
   "pygments_lexer": "ipython3",
   "version": "3.7.3"
  }
 },
 "nbformat": 4,
 "nbformat_minor": 2
}
