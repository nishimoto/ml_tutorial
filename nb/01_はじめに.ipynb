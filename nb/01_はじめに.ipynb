{
 "cells": [
  {
   "cell_type": "markdown",
   "metadata": {},
   "source": [
    "## 本教材の目的\n",
    "\n",
    "本教材では、機械学習（AI）を学んでいきます。\n",
    "\n",
    "機械学習のディープなところに入り込むというよりは、**０から初めて機械学習を動かすこと**を目標とします。\n",
    "\n",
    "## 受講における必須条件\n",
    "\n",
    "「**なんらかのプログラム言語に触れたことがあること**」を本教材における必須条件とします。\n",
    "\n",
    "本教材においては、機械学習分野で頻繁に使用される言語であるPythonを使用します。\n",
    "\n",
    "本教材でもPythonの解説はしますが、他の言語にある程度触れていることを前提とします。\n",
    "\n",
    "プログラミング自体初めての場合、[Progate](https://prog-8.com/languages/python)などでPythonを先に学ぶとよいでしょう。\n",
    "\n",
    "また、他の言語に触れていてもあまり自信がない場合なども、一度ProgateでPythonを学ぶことを推奨します。\n",
    "\n",
    "## 機械学習の大まかな流れ、各章でやること\n",
    "\n",
    "<img src=\"./assets/pic/ml0.png\" width=\"50%\">\n",
    "\n",
    "機械学習の大まかな流れとしては、以上のようになっています。\n",
    "\n",
    "なお、実際のビジネスの場合、データを集める、の前に適切な問題を設定する、という項目もあります。\n",
    "\n",
    "上記を見ていただくとわかるように、機械学習においては**データの前処理がかなり大事**です。\n",
    "\n",
    "そのため、データの前処理に関わる部分は多めに紙面を割いています。\n"
   ]
  },
  {
   "cell_type": "code",
   "execution_count": null,
   "metadata": {},
   "outputs": [],
   "source": []
  }
 ],
 "metadata": {
  "kernelspec": {
   "display_name": "Python 3",
   "language": "python",
   "name": "python3"
  },
  "language_info": {
   "codemirror_mode": {
    "name": "ipython",
    "version": 3
   },
   "file_extension": ".py",
   "mimetype": "text/x-python",
   "name": "python",
   "nbconvert_exporter": "python",
   "pygments_lexer": "ipython3",
   "version": "3.7.3"
  }
 },
 "nbformat": 4,
 "nbformat_minor": 2
}
