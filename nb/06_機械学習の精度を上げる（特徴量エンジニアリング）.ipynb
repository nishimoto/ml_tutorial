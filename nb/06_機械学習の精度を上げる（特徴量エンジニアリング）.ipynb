{
 "cells": [
  {
   "cell_type": "markdown",
   "metadata": {},
   "source": [
    "## 機械学習の精度を上げる（特徴量エンジニアリング）\n",
    "\n",
    "## 目次\n",
    "\n",
    " - この章の目的\n",
    " \n",
    " - 処理を関数化\n",
    " \n",
    " - 仮説検証① - PassengerIdを除く\n",
    " \n",
    " - 仮説検証② - FamilySize列を作成\n",
    " \n",
    " - 仮説検証③ - Parch, SibSpが0の人のフラグを立てる\n",
    " \n",
    " - 仮説検証④ - 0-10歳は生存者が多いかも\n",
    " \n",
    " - おわりに\n",
    "\n",
    "## この章の目的\n",
    "\n",
    "この章の目的は、「**機械学習の精度を上げる**」です。\n",
    "\n",
    "前の章から導かれた仮説が\n",
    "\n",
    " - PassengerIdを除くとよいかも\n",
    "\n",
    " - FamilySizeを入れるとよいかも\n",
    "\n",
    " - Parch, SibSpが0の人はSurvive率が低いかも\n",
    "\n",
    " - 0-10歳は生存者が多いかも\n",
    "\n",
    "の4つでした。今回はこの仮説を試してみます。\n",
    "\n",
    "その前に、ソースコードを関数化によってリファクタリングします。\n",
    "\n",
    "## 処理を関数化\n",
    "\n",
    "今回の場合は処理があまり大きくないため、\n",
    "\n",
    " - トレーニングデータとテストデータの前処理用の関数\n",
    " - トレーニングデータの評価用の関数\n",
    " - テストデータ予測用の関数\n",
    " - 特徴量の重要度を出力\n",
    "\n",
    "の４つを関数化します。\n",
    "\n",
    "リファクタリング後のソースコードが以下。\n",
    "\n",
    " - ソースコード\n"
   ]
  },
  {
   "cell_type": "code",
   "execution_count": 3,
   "metadata": {},
   "outputs": [
    {
     "name": "stdout",
     "output_type": "stream",
     "text": [
      "0.8103254769921436\n"
     ]
    },
    {
     "data": {
      "image/png": "[encoded data removed]",
      "text/plain": [
       "<Figure size 432x288 with 1 Axes>"
      ]
     },
     "metadata": {
      "needs_background": "light"
     },
     "output_type": "display_data"
    }
   ],
   "source": [
    "%matplotlib inline\n",
    "import warnings\n",
    "import numpy as np\n",
    "import pandas as pd\n",
    "import xgboost as xgb\n",
    "import matplotlib.pylab as plt\n",
    "\n",
    "from sklearn.metrics import accuracy_score\n",
    "from sklearn.model_selection import StratifiedKFold\n",
    "\n",
    "warnings.filterwarnings('ignore')\n",
    "\n",
    "\n",
    "def validate(train_x, train_y):\n",
    "    accuracies = []\n",
    "    feature_importances = []\n",
    "\n",
    "    cv = StratifiedKFold(n_splits=3, shuffle=True, random_state=0)\n",
    "    for train_idx, test_idx in cv.split(train_x, train_y):\n",
    "        trn_x = train_x.iloc[train_idx, :]\n",
    "        val_x = train_x.iloc[test_idx, :]\n",
    "\n",
    "        trn_y = train_y.iloc[train_idx]\n",
    "        val_y = train_y.iloc[test_idx]\n",
    "\n",
    "        clf = xgb.XGBClassifier()\n",
    "        clf.fit(trn_x, trn_y)\n",
    "\n",
    "        pred_y = clf.predict(val_x)\n",
    "        feature_importances.append(clf.feature_importances_)\n",
    "        accuracies.append(accuracy_score(val_y, pred_y))\n",
    "    print(np.mean(accuracies))\n",
    "    return accuracies, feature_importances\n",
    "\n",
    "\n",
    "def plot_feature_importances(feature_importances, cols):\n",
    "    df_fimp = pd.DataFrame(feature_importances, columns=cols)\n",
    "    df_fimp.plot(kind=\"box\", rot=90)\n",
    "\n",
    "\n",
    "def preprocess_df(df):\n",
    "    # CabinはこのあとDropするので、コードから削除\n",
    "    df[\"Age\"] = df[\"Age\"].fillna(df[\"Age\"].mean())\n",
    "    df[\"Embarked\"] = df[\"Embarked\"].fillna(df[\"Embarked\"].mode())\n",
    "    \n",
    "    # 列の削除\n",
    "    df.drop([\"Name\", \"Ticket\", \"Cabin\"], axis=1, inplace=True)\n",
    "    \n",
    "    # Sexの01化とEmbarkedのダミー化 \n",
    "    df[\"Sex\"] = df[\"Sex\"].replace({\"male\": 0, \"female\": 1})\n",
    "    df = pd.get_dummies(df)\n",
    "\n",
    "    return df\n",
    "\n",
    "\n",
    "# test dataのpredict\n",
    "def predict_df(train_x, train_y, test_x, df_test_raw, path_output=\"result.csv\"):\n",
    "    clf = xgb.XGBClassifier()\n",
    "    clf.fit(train_x, train_y)\n",
    "    preds = clf.predict(test_x)\n",
    "    \n",
    "    _df = pd.DataFrame()\n",
    "    _df[\"PassengerId\"] = df_test_raw[\"PassengerId\"]\n",
    "    _df[\"Survived\"] = preds\n",
    "    _df.to_csv(path_output, index=False)\n",
    "\n",
    "\n",
    "# デバッグするときはmain関数から外して、直で叩く方が楽です。\n",
    "def main():\n",
    "    df_train = pd.read_csv(\"train.csv\")\n",
    "\n",
    "    # ここは前処理\n",
    "    train_y = df_train[\"Survived\"]\n",
    "    train_x = df_train.drop(\"Survived\", axis=1)\n",
    "\n",
    "    train_x = preprocess_df(train_x)\n",
    "    accuracies, feature_importances = validate(train_x, train_y)\n",
    "    plot_feature_importances(feature_importances, train_x.columns)\n",
    "\n",
    "    flag_product = True\n",
    "    if flag_product:\n",
    "        df_test = pd.read_csv(\"test.csv\")\n",
    "        df_test_raw = df_test.copy()\n",
    "        test_x = preprocess_df(df_test)\n",
    "        predict_df(train_x, train_y, test_x, df_test_raw, \"result.csv\")\n",
    "\n",
    "\n",
    "#  `if __name__ == '__main__':` はおまじないのようなモノと思ってください。\n",
    "if __name__ == '__main__':\n",
    "    main()\n"
   ]
  },
  {
   "cell_type": "markdown",
   "metadata": {},
   "source": [
    "リファクタリングしただけなので、前と同じ精度が出ていればOKです。\n",
    "\n",
    "plotの部分は面倒くさかったらけしてください。\n",
    "\n",
    "## 仮説検証① - PassengerIdを除く\n",
    "\n",
    "まずは、PassengerIdを除きます。\n",
    "\n",
    "列を除くには `df.drop(列名, axis=1, inplace=True)` でOKでしたね。\n",
    "\n",
    " - ソースコード\n"
   ]
  },
  {
   "cell_type": "code",
   "execution_count": 4,
   "metadata": {},
   "outputs": [
    {
     "name": "stdout",
     "output_type": "stream",
     "text": [
      "0.8226711560044894\n"
     ]
    },
    {
     "data": {
      "image/png": "[encoded data removed]",
      "text/plain": [
       "<Figure size 432x288 with 1 Axes>"
      ]
     },
     "metadata": {
      "needs_background": "light"
     },
     "output_type": "display_data"
    }
   ],
   "source": [
    "def preprocess_df(df):\n",
    "    # CabinはこのあとDropするので、コードから削除\n",
    "    df[\"Age\"] = df[\"Age\"].fillna(df[\"Age\"].mean())\n",
    "    df[\"Embarked\"] = df[\"Embarked\"].fillna(df[\"Embarked\"].mode())\n",
    "    \n",
    "    # 列の削除\n",
    "    df.drop([\"Name\", \"Ticket\", \"Cabin\", \"PassengerId\"], axis=1, inplace=True)\n",
    "    \n",
    "    # Sexの01化とEmbarkedのダミー化 \n",
    "    df[\"Sex\"] = df[\"Sex\"].replace({\"male\": 0, \"female\": 1})\n",
    "    df = pd.get_dummies(df)\n",
    "\n",
    "    return df\n",
    "\n",
    "if __name__ == '__main__':\n",
    "    main()"
   ]
  },
  {
   "cell_type": "markdown",
   "metadata": {},
   "source": [
    "CVの値が上がること、実際にKaggleにSubmitすると精度が上がっていることが確認できると思います。\n",
    "\n",
    "## 仮説検証② - FamilySize列を作成\n",
    "\n",
    "次に、SibSpとParchの数を足して、FamilySizeという列を作ってみます。\n",
    "\n",
    "`preprocess_df` 関数の中身だけ書き換えればOKなので、そこだけ反映しています。\n",
    "\n",
    " - ソースコード\n"
   ]
  },
  {
   "cell_type": "code",
   "execution_count": 5,
   "metadata": {},
   "outputs": [
    {
     "name": "stdout",
     "output_type": "stream",
     "text": [
      "0.8237934904601572\n"
     ]
    },
    {
     "data": {
      "image/png": "[encoded data removed]",
      "text/plain": [
       "<Figure size 432x288 with 1 Axes>"
      ]
     },
     "metadata": {
      "needs_background": "light"
     },
     "output_type": "display_data"
    }
   ],
   "source": [
    "def preprocess_df(df):\n",
    "    # CabinはこのあとDropするので、コードから削除\n",
    "    df[\"Age\"] = df[\"Age\"].fillna(df[\"Age\"].mean())\n",
    "    df[\"Embarked\"] = df[\"Embarked\"].fillna(df[\"Embarked\"].mode())\n",
    "    df[\"FamilySize\"] = df[\"SibSp\"] + df[\"Parch\"] + 1\n",
    "   \n",
    "    # 列の削除\n",
    "    df.drop([\"Name\", \"Ticket\", \"Cabin\", \"PassengerId\"], axis=1, inplace=True)\n",
    "    \n",
    "    # Sexの01化とEmbarkedのダミー化 \n",
    "    df[\"Sex\"] = df[\"Sex\"].replace({\"male\": 0, \"female\": 1})\n",
    "    df = pd.get_dummies(df)\n",
    "\n",
    "    return df\n",
    "\n",
    "if __name__ == '__main__':\n",
    "    main()"
   ]
  },
  {
   "cell_type": "markdown",
   "metadata": {},
   "source": [
    "cvの平均値が上がること、FamilySizeがそれなりの重要度を持っていることがわかると思います。\n",
    "\n",
    "このように、単純な変数も以外と予測には効くことが多いです。\n",
    "\n",
    "## 仮説検証③ - Parch, SibSpが0の人のフラグを立てる\n",
    "\n",
    "Parch, SibSpが0の人のフラグを立てます。\n",
    "\n",
    "先程FamilySizeという変数も作ったので、こちらの値が1の人も別途フラグを立ててみましょう。\n",
    "\n",
    " - ソースコード\n"
   ]
  },
  {
   "cell_type": "code",
   "execution_count": 6,
   "metadata": {},
   "outputs": [
    {
     "name": "stdout",
     "output_type": "stream",
     "text": [
      "0.8237934904601572\n"
     ]
    },
    {
     "data": {
      "image/png": "[encoded data removed]",
      "text/plain": [
       "<Figure size 432x288 with 1 Axes>"
      ]
     },
     "metadata": {
      "needs_background": "light"
     },
     "output_type": "display_data"
    }
   ],
   "source": [
    "def preprocess_df(df):\n",
    "    # CabinはこのあとDropするので、コードから削除\n",
    "    df[\"Age\"] = df[\"Age\"].fillna(df[\"Age\"].mean())\n",
    "    df[\"Embarked\"] = df[\"Embarked\"].fillna(df[\"Embarked\"].mode())\n",
    "    df[\"FamilySize\"] = df[\"SibSp\"] + df[\"Parch\"] + 1\n",
    "   \n",
    "    # 列の削除\n",
    "    df.drop([\"Name\", \"Ticket\", \"Cabin\", \"PassengerId\"], axis=1, inplace=True)\n",
    "\n",
    "    # Sexの01化とEmbarkedのダミー化 \n",
    "    df[\"Sex\"] = df[\"Sex\"].replace({\"male\": 0, \"female\": 1})\n",
    "    df = pd.get_dummies(df)\n",
    "    \n",
    "    # Parch, SibSp, FamilySize関連のFlag\n",
    "    df[\"None_Parch\"] = [1 if val == 0 else 0 for val in df[\"Parch\"]]\n",
    "    df[\"None_SibSp\"] = [1 if val == 0 else 0 for val in df[\"SibSp\"]]\n",
    "    df[\"None_Family\"] = [1 if val == 1 else 0 for val in df[\"FamilySize\"]]\n",
    "\n",
    "    return df\n",
    "\n",
    "if __name__ == '__main__':\n",
    "    main()"
   ]
  },
  {
   "cell_type": "markdown",
   "metadata": {},
   "source": [
    "accuracyの値が変わっていないこと、特徴量の重要度としても0であり全く使われていないことがわかります。\n",
    "\n",
    "今回はこれらは特徴量に入れなくてよさそうです。\n",
    "\n",
    "`[1 if val == 0 else 0 for val in df[列名]]`の部分は[1章](01_Python入門)で学習した、リスト内包表記を使用しています。\n",
    "\n",
    "次に、0〜10歳についても検証してみます。\n",
    "\n",
    "## 仮説検証④ - 0-10歳は生存者が多いかも\n",
    "\n",
    " - ソースコード\n"
   ]
  },
  {
   "cell_type": "code",
   "execution_count": 7,
   "metadata": {},
   "outputs": [
    {
     "name": "stdout",
     "output_type": "stream",
     "text": [
      "0.8237934904601572\n"
     ]
    },
    {
     "data": {
      "image/png": "[encoded data removed]",
      "text/plain": [
       "<Figure size 432x288 with 1 Axes>"
      ]
     },
     "metadata": {
      "needs_background": "light"
     },
     "output_type": "display_data"
    }
   ],
   "source": [
    "def preprocess_df(df):\n",
    "    # CabinはこのあとDropするので、コードから削除\n",
    "    df[\"Age\"] = df[\"Age\"].fillna(df[\"Age\"].mean())\n",
    "    df[\"Embarked\"] = df[\"Embarked\"].fillna(df[\"Embarked\"].mode())\n",
    "    df[\"FamilySize\"] = df[\"SibSp\"] + df[\"Parch\"] + 1\n",
    "   \n",
    "    # 列の削除\n",
    "    df.drop([\"Name\", \"Ticket\", \"Cabin\", \"PassengerId\"], axis=1, inplace=True)\n",
    "\n",
    "    # Sexの01化とEmbarkedのダミー化 \n",
    "    df[\"Sex\"] = df[\"Sex\"].replace({\"male\": 0, \"female\": 1})\n",
    "    df = pd.get_dummies(df)\n",
    "    \n",
    "    # Parch, SibSp, FamilySize関連のFlag\n",
    "    df[\"Flag_Children\"] = [1 if val < 11 else 0 for val in df[\"Age\"]]\n",
    "\n",
    "    return df\n",
    "\n",
    "if __name__ == '__main__':\n",
    "    main()"
   ]
  },
  {
   "cell_type": "markdown",
   "metadata": {},
   "source": [
    "accuracyの値が変わっていないこと、特徴量の重要度としても0であり全く使われていないことがわかります。\n",
    "\n",
    "今回はこれも特徴量に入れなくてよさそうです。"
   ]
  },
  {
   "cell_type": "markdown",
   "metadata": {},
   "source": [
    "## おわりに\n",
    "\n",
    "ここでは以下の仮説を検証しました。\n",
    "\n",
    " - PassengerIdを除くとよいかも <br>\n",
    "     → 採用\n",
    "\n",
    " - FamilySizeを入れるとよいかも <br>\n",
    "     → 採用\n",
    "\n",
    " - Parch, SibSpが0の人はSurvive率が低いかも <br>\n",
    "     → 非採用\n",
    "\n",
    " - 0-10歳は生存者が多いかも <br>\n",
    "     → 非採用\n",
    "\n",
    "実際のところ、採用できる仮説はほとんどないです。\n",
    "\n",
    "また、クロスバリデーションで評価した値と実際のスコアは一致するとは限らないので、注意してください。\n",
    "\n",
    "（実際、FamilySizeを入れて計算した値をSubmitすると少しスコアが下がります。 <br>\n",
    "今回はチュートリアルなので、クロスバリデーションの値が上がったら採用としています。）\n",
    "\n",
    "次回は、機械学習のハイパーパラメーターのチューニングによりスコアをあげてみます。\n"
   ]
  }
 ],
 "metadata": {
  "kernelspec": {
   "display_name": "Python 3",
   "language": "python",
   "name": "python3"
  },
  "language_info": {
   "codemirror_mode": {
    "name": "ipython",
    "version": 3
   },
   "file_extension": ".py",
   "mimetype": "text/x-python",
   "name": "python",
   "nbconvert_exporter": "python",
   "pygments_lexer": "ipython3",
   "version": "3.7.3"
  }
 },
 "nbformat": 4,
 "nbformat_minor": 2
}
